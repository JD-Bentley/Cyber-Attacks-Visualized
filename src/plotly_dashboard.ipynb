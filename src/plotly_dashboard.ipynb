{
 "cells": [
  {
   "cell_type": "markdown",
   "id": "74292213",
   "metadata": {},
   "source": [
    "# Visualizing Cybersecurity Incidences\n",
    "### Goal: transform numbers into impactful visuals.\n",
    "### Uses:\n",
    "* Plotly's Dash (for creating local dashboards)\n",
    "* KaggleHub (for data)\n",
    "\n",
    "### More about Dash:\n",
    "* [Dash App Examples](https://plotly.com/examples/)\n",
    "* [User Guides](https://dash.plotly.com/minimal-app)\n",
    "* [More about Jupyter Support for Dash](https://github.com/plotly/jupyter-dash?tab=readme-ov-file)\n",
    "* [Dash Bootstrap Themes](https://hellodash.pythonanywhere.com/adding-themes/color-modes)\n",
    "\n",
    "Note: as of Dash v2.11, Jupyter support is built into the main Dash package."
   ]
  },
  {
   "cell_type": "markdown",
   "id": "cc2d44c4",
   "metadata": {},
   "source": [
    "### data set\n",
    "https://huggingface.co/datasets/vinitvek/cybersecurityattacks\n"
   ]
  },
  {
   "cell_type": "markdown",
   "id": "651a0cf7",
   "metadata": {},
   "source": [
    "## Environment Setup"
   ]
  },
  {
   "cell_type": "code",
   "execution_count": 1,
   "id": "82917752",
   "metadata": {},
   "outputs": [
    {
     "name": "stdout",
     "output_type": "stream",
     "text": [
      "Note: you may need to restart the kernel to use updated packages.\n"
     ]
    }
   ],
   "source": [
    "# Installations\n",
    "%pip install --q pandas dash \"plotly[express]\" ipywidgets nbformat dash-bootstrap-components fsspec huggingface_hub dash-bootstrap-templates"
   ]
  },
  {
   "cell_type": "code",
   "execution_count": 2,
   "id": "aec894d0",
   "metadata": {},
   "outputs": [],
   "source": [
    "# Libraries\n",
    "from dash import Dash, html, dcc, callback, Output, Input, dash_table # We import the dcc module (DCC stands for Dash Core Components). This module includes a Graph component called dcc.Graph, which is used to render interactive graphs.\n",
    "import plotly.express as px # We also import the plotly.express library to build the interactive graphs.\n",
    "import pandas as pd\n",
    "import numpy as np\n",
    "import dash_bootstrap_components as dbc\n",
    "import plotly.io as pio\n",
    "from dash_bootstrap_templates import load_figure_template\n",
    "from itertools import cycle\n",
    "from plotly.express.colors import qualitative"
   ]
  },
  {
   "cell_type": "code",
   "execution_count": 3,
   "id": "bedd8e10",
   "metadata": {},
   "outputs": [],
   "source": [
    "# Download data set from HuggingFace using Pandas\n",
    "df = pd.read_csv(\"hf://datasets/vinitvek/cybersecurityattacks/collab dataset.csv\")"
   ]
  },
  {
   "cell_type": "markdown",
   "id": "0e31797d",
   "metadata": {},
   "source": [
    "## Brief Data Exploration, Understanding"
   ]
  },
  {
   "cell_type": "code",
   "execution_count": 5,
   "id": "ff14fa1b",
   "metadata": {},
   "outputs": [
    {
     "data": {
      "text/html": [
       "<div>\n",
       "<style scoped>\n",
       "    .dataframe tbody tr th:only-of-type {\n",
       "        vertical-align: middle;\n",
       "    }\n",
       "\n",
       "    .dataframe tbody tr th {\n",
       "        vertical-align: top;\n",
       "    }\n",
       "\n",
       "    .dataframe thead th {\n",
       "        text-align: right;\n",
       "    }\n",
       "</style>\n",
       "<table border=\"1\" class=\"dataframe\">\n",
       "  <thead>\n",
       "    <tr style=\"text-align: right;\">\n",
       "      <th></th>\n",
       "      <th>slug</th>\n",
       "      <th>event_date</th>\n",
       "      <th>event_year</th>\n",
       "      <th>affected_country</th>\n",
       "      <th>affected_organization</th>\n",
       "      <th>affected_industry</th>\n",
       "      <th>afftected_industry_code</th>\n",
       "      <th>event_type</th>\n",
       "      <th>event_subtype</th>\n",
       "      <th>motive</th>\n",
       "      <th>description</th>\n",
       "      <th>actor</th>\n",
       "      <th>actor_type</th>\n",
       "      <th>actor_country</th>\n",
       "      <th>source_url</th>\n",
       "    </tr>\n",
       "  </thead>\n",
       "  <tbody>\n",
       "    <tr>\n",
       "      <th>0</th>\n",
       "      <td>babb843cbce5db9e</td>\n",
       "      <td>2023-12-31 00:00:00</td>\n",
       "      <td>2023</td>\n",
       "      <td>United Kingdom of Great Britain and Northern I...</td>\n",
       "      <td>Radioactive Waste Management</td>\n",
       "      <td>Administrative and Support and Waste Managemen...</td>\n",
       "      <td>56</td>\n",
       "      <td>Undetermined</td>\n",
       "      <td>Undetermined</td>\n",
       "      <td>Undetermined</td>\n",
       "      <td>Threat actors try to break into Radioactive Wa...</td>\n",
       "      <td>Undetermined</td>\n",
       "      <td>Criminal</td>\n",
       "      <td>Undetermined</td>\n",
       "      <td>https://www.theguardian.com/business/2023/dec/...</td>\n",
       "    </tr>\n",
       "    <tr>\n",
       "      <th>1</th>\n",
       "      <td>581e011d5c37c281</td>\n",
       "      <td>2023-12-31 00:00:00</td>\n",
       "      <td>2023</td>\n",
       "      <td>Belarus</td>\n",
       "      <td>BelTA</td>\n",
       "      <td>Information</td>\n",
       "      <td>51</td>\n",
       "      <td>Disruptive</td>\n",
       "      <td>Undetermined</td>\n",
       "      <td>Protest</td>\n",
       "      <td>Belarusian hacktivists from the Belarusian Cyb...</td>\n",
       "      <td>Belarusian Cyber-Partisans</td>\n",
       "      <td>Hacktivist</td>\n",
       "      <td>Belarus</td>\n",
       "      <td>https://www.bankinfosecurity.com/hacktivists-s...</td>\n",
       "    </tr>\n",
       "    <tr>\n",
       "      <th>2</th>\n",
       "      <td>fa79c150aac3cf77</td>\n",
       "      <td>2023-12-30 00:00:00</td>\n",
       "      <td>2023</td>\n",
       "      <td>United States of America</td>\n",
       "      <td>Xerox Business Solutions</td>\n",
       "      <td>Administrative and Support and Waste Managemen...</td>\n",
       "      <td>56</td>\n",
       "      <td>Mixed</td>\n",
       "      <td>Exploitation of Application Server</td>\n",
       "      <td>Financial</td>\n",
       "      <td>The U.S. division of Xerox Business Solutions ...</td>\n",
       "      <td>INC Ransom</td>\n",
       "      <td>Criminal</td>\n",
       "      <td>Undetermined</td>\n",
       "      <td>https://www.bleepingcomputer.com/news/security...</td>\n",
       "    </tr>\n",
       "    <tr>\n",
       "      <th>3</th>\n",
       "      <td>4d12747a4dd52156</td>\n",
       "      <td>2023-12-30 00:00:00</td>\n",
       "      <td>2023</td>\n",
       "      <td>Iran (Islamic Republic of)</td>\n",
       "      <td>SnappFood</td>\n",
       "      <td>Accommodation and Food Services</td>\n",
       "      <td>72</td>\n",
       "      <td>Mixed</td>\n",
       "      <td>Exploitation of Application Server</td>\n",
       "      <td>Financial</td>\n",
       "      <td>Irleaks claims to have broken into the systems...</td>\n",
       "      <td>Irleaks</td>\n",
       "      <td>Criminal</td>\n",
       "      <td>Undetermined</td>\n",
       "      <td>https://www.darkreading.com/cyberattacks-data-...</td>\n",
       "    </tr>\n",
       "    <tr>\n",
       "      <th>4</th>\n",
       "      <td>1079752e8fe90b4d</td>\n",
       "      <td>2023-12-29 00:00:00</td>\n",
       "      <td>2023</td>\n",
       "      <td>Canada</td>\n",
       "      <td>Memorial University of Newfoundland</td>\n",
       "      <td>Educational Services</td>\n",
       "      <td>61</td>\n",
       "      <td>Disruptive</td>\n",
       "      <td>Undetermined</td>\n",
       "      <td>Financial</td>\n",
       "      <td>Memorial University of Newfoundland (MUN) is h...</td>\n",
       "      <td>Undetermined</td>\n",
       "      <td>Criminal</td>\n",
       "      <td>Undetermined</td>\n",
       "      <td>https://www.bleepingcomputer.com/news/security...</td>\n",
       "    </tr>\n",
       "  </tbody>\n",
       "</table>\n",
       "</div>"
      ],
      "text/plain": [
       "               slug           event_date  event_year  \\\n",
       "0  babb843cbce5db9e  2023-12-31 00:00:00        2023   \n",
       "1  581e011d5c37c281  2023-12-31 00:00:00        2023   \n",
       "2  fa79c150aac3cf77  2023-12-30 00:00:00        2023   \n",
       "3  4d12747a4dd52156  2023-12-30 00:00:00        2023   \n",
       "4  1079752e8fe90b4d  2023-12-29 00:00:00        2023   \n",
       "\n",
       "                                    affected_country  \\\n",
       "0  United Kingdom of Great Britain and Northern I...   \n",
       "1                                            Belarus   \n",
       "2                           United States of America   \n",
       "3                         Iran (Islamic Republic of)   \n",
       "4                                             Canada   \n",
       "\n",
       "                 affected_organization  \\\n",
       "0         Radioactive Waste Management   \n",
       "1                                BelTA   \n",
       "2             Xerox Business Solutions   \n",
       "3                            SnappFood   \n",
       "4  Memorial University of Newfoundland   \n",
       "\n",
       "                                   affected_industry  afftected_industry_code  \\\n",
       "0  Administrative and Support and Waste Managemen...                       56   \n",
       "1                                        Information                       51   \n",
       "2  Administrative and Support and Waste Managemen...                       56   \n",
       "3                    Accommodation and Food Services                       72   \n",
       "4                               Educational Services                       61   \n",
       "\n",
       "     event_type                       event_subtype        motive  \\\n",
       "0  Undetermined                        Undetermined  Undetermined   \n",
       "1    Disruptive                        Undetermined       Protest   \n",
       "2         Mixed  Exploitation of Application Server     Financial   \n",
       "3         Mixed  Exploitation of Application Server     Financial   \n",
       "4    Disruptive                        Undetermined     Financial   \n",
       "\n",
       "                                         description  \\\n",
       "0  Threat actors try to break into Radioactive Wa...   \n",
       "1  Belarusian hacktivists from the Belarusian Cyb...   \n",
       "2  The U.S. division of Xerox Business Solutions ...   \n",
       "3  Irleaks claims to have broken into the systems...   \n",
       "4  Memorial University of Newfoundland (MUN) is h...   \n",
       "\n",
       "                        actor  actor_type actor_country  \\\n",
       "0                Undetermined    Criminal  Undetermined   \n",
       "1  Belarusian Cyber-Partisans  Hacktivist       Belarus   \n",
       "2                  INC Ransom    Criminal  Undetermined   \n",
       "3                     Irleaks    Criminal  Undetermined   \n",
       "4                Undetermined    Criminal  Undetermined   \n",
       "\n",
       "                                          source_url  \n",
       "0  https://www.theguardian.com/business/2023/dec/...  \n",
       "1  https://www.bankinfosecurity.com/hacktivists-s...  \n",
       "2  https://www.bleepingcomputer.com/news/security...  \n",
       "3  https://www.darkreading.com/cyberattacks-data-...  \n",
       "4  https://www.bleepingcomputer.com/news/security...  "
      ]
     },
     "execution_count": 5,
     "metadata": {},
     "output_type": "execute_result"
    }
   ],
   "source": [
    "df.head(n=5)"
   ]
  },
  {
   "cell_type": "code",
   "execution_count": 6,
   "id": "e5d77829",
   "metadata": {},
   "outputs": [
    {
     "name": "stdout",
     "output_type": "stream",
     "text": [
      "<class 'pandas.core.frame.DataFrame'>\n",
      "RangeIndex: 13407 entries, 0 to 13406\n",
      "Data columns (total 15 columns):\n",
      " #   Column                   Non-Null Count  Dtype \n",
      "---  ------                   --------------  ----- \n",
      " 0   slug                     13407 non-null  object\n",
      " 1   event_date               13407 non-null  object\n",
      " 2   event_year               13407 non-null  int64 \n",
      " 3   affected_country         13407 non-null  object\n",
      " 4   affected_organization    13407 non-null  object\n",
      " 5   affected_industry        13407 non-null  object\n",
      " 6   afftected_industry_code  13407 non-null  int64 \n",
      " 7   event_type               13407 non-null  object\n",
      " 8   event_subtype            13407 non-null  object\n",
      " 9   motive                   13407 non-null  object\n",
      " 10  description              13407 non-null  object\n",
      " 11  actor                    13407 non-null  object\n",
      " 12  actor_type               13407 non-null  object\n",
      " 13  actor_country            13407 non-null  object\n",
      " 14  source_url               13407 non-null  object\n",
      "dtypes: int64(2), object(13)\n",
      "memory usage: 1.5+ MB\n"
     ]
    }
   ],
   "source": [
    "df.info()"
   ]
  },
  {
   "cell_type": "code",
   "execution_count": 6,
   "id": "cf28c8fd",
   "metadata": {},
   "outputs": [
    {
     "data": {
      "text/html": [
       "<div>\n",
       "<style scoped>\n",
       "    .dataframe tbody tr th:only-of-type {\n",
       "        vertical-align: middle;\n",
       "    }\n",
       "\n",
       "    .dataframe tbody tr th {\n",
       "        vertical-align: top;\n",
       "    }\n",
       "\n",
       "    .dataframe thead th {\n",
       "        text-align: right;\n",
       "    }\n",
       "</style>\n",
       "<table border=\"1\" class=\"dataframe\">\n",
       "  <thead>\n",
       "    <tr style=\"text-align: right;\">\n",
       "      <th></th>\n",
       "      <th>event_year</th>\n",
       "      <th>afftected_industry_code</th>\n",
       "    </tr>\n",
       "  </thead>\n",
       "  <tbody>\n",
       "    <tr>\n",
       "      <th>count</th>\n",
       "      <td>13407.000000</td>\n",
       "      <td>13407.000000</td>\n",
       "    </tr>\n",
       "    <tr>\n",
       "      <th>mean</th>\n",
       "      <td>2019.703886</td>\n",
       "      <td>63.197434</td>\n",
       "    </tr>\n",
       "    <tr>\n",
       "      <th>std</th>\n",
       "      <td>2.803879</td>\n",
       "      <td>18.867469</td>\n",
       "    </tr>\n",
       "    <tr>\n",
       "      <th>min</th>\n",
       "      <td>2014.000000</td>\n",
       "      <td>11.000000</td>\n",
       "    </tr>\n",
       "    <tr>\n",
       "      <th>25%</th>\n",
       "      <td>2017.000000</td>\n",
       "      <td>51.000000</td>\n",
       "    </tr>\n",
       "    <tr>\n",
       "      <th>50%</th>\n",
       "      <td>2020.000000</td>\n",
       "      <td>61.000000</td>\n",
       "    </tr>\n",
       "    <tr>\n",
       "      <th>75%</th>\n",
       "      <td>2022.000000</td>\n",
       "      <td>81.000000</td>\n",
       "    </tr>\n",
       "    <tr>\n",
       "      <th>max</th>\n",
       "      <td>2023.000000</td>\n",
       "      <td>99.000000</td>\n",
       "    </tr>\n",
       "  </tbody>\n",
       "</table>\n",
       "</div>"
      ],
      "text/plain": [
       "         event_year  afftected_industry_code\n",
       "count  13407.000000             13407.000000\n",
       "mean    2019.703886                63.197434\n",
       "std        2.803879                18.867469\n",
       "min     2014.000000                11.000000\n",
       "25%     2017.000000                51.000000\n",
       "50%     2020.000000                61.000000\n",
       "75%     2022.000000                81.000000\n",
       "max     2023.000000                99.000000"
      ]
     },
     "execution_count": 6,
     "metadata": {},
     "output_type": "execute_result"
    }
   ],
   "source": [
    "df.describe()"
   ]
  },
  {
   "cell_type": "code",
   "execution_count": 7,
   "id": "9681ca33",
   "metadata": {},
   "outputs": [
    {
     "data": {
      "text/plain": [
       "slug                       13407\n",
       "event_date                  3130\n",
       "event_year                    10\n",
       "affected_country             163\n",
       "affected_organization      12252\n",
       "affected_industry             22\n",
       "afftected_industry_code       42\n",
       "event_type                     4\n",
       "event_subtype                 86\n",
       "motive                        10\n",
       "description                11693\n",
       "actor                       1135\n",
       "actor_type                     6\n",
       "actor_country                 82\n",
       "source_url                 10768\n",
       "dtype: int64"
      ]
     },
     "execution_count": 7,
     "metadata": {},
     "output_type": "execute_result"
    }
   ],
   "source": [
    "df.nunique()"
   ]
  },
  {
   "cell_type": "code",
   "execution_count": 8,
   "id": "542ada23",
   "metadata": {},
   "outputs": [
    {
     "data": {
      "text/plain": [
       "slug                       13407\n",
       "event_date                  3130\n",
       "event_year                    10\n",
       "affected_country             163\n",
       "affected_organization      12252\n",
       "affected_industry             22\n",
       "afftected_industry_code       42\n",
       "event_type                     4\n",
       "event_subtype                 86\n",
       "motive                        10\n",
       "description                11693\n",
       "actor                       1135\n",
       "actor_type                     6\n",
       "actor_country                 82\n",
       "source_url                 10768\n",
       "dtype: int64"
      ]
     },
     "execution_count": 8,
     "metadata": {},
     "output_type": "execute_result"
    }
   ],
   "source": [
    "df.nunique(axis=0)"
   ]
  },
  {
   "cell_type": "markdown",
   "id": "db40ce2b",
   "metadata": {},
   "source": [
    "## Dash App\n",
    "(Local Dashboard Creation)"
   ]
  },
  {
   "cell_type": "code",
   "execution_count": 4,
   "id": "707d18a3",
   "metadata": {},
   "outputs": [
    {
     "name": "stderr",
     "output_type": "stream",
     "text": [
      "/var/folders/90/wjpsmlbd4fng7z02qyqqjfqc0000gn/T/ipykernel_2284/3656948012.py:2: FutureWarning: ChainedAssignmentError: behaviour will change in pandas 3.0!\n",
      "You are setting values through chained assignment. Currently this works in certain cases, but when using Copy-on-Write (which will become the default behaviour in pandas 3.0) this will never work to update the original DataFrame or Series, because the intermediate object on which we are setting values will behave as a copy.\n",
      "A typical example is when you are setting values in a column of a DataFrame, like:\n",
      "\n",
      "df[\"col\"][row_indexer] = value\n",
      "\n",
      "Use `df.loc[row_indexer, \"col\"] = values` instead, to perform the assignment in a single step and ensure this keeps updating the original `df`.\n",
      "\n",
      "See the caveats in the documentation: https://pandas.pydata.org/pandas-docs/stable/user_guide/indexing.html#returning-a-view-versus-a-copy\n",
      "\n",
      "  df['affected_country'].loc[df[df['affected_country'] == 'Antarctica'].index] = 'Netherlands'\n",
      "/var/folders/90/wjpsmlbd4fng7z02qyqqjfqc0000gn/T/ipykernel_2284/3656948012.py:2: SettingWithCopyWarning: \n",
      "A value is trying to be set on a copy of a slice from a DataFrame\n",
      "\n",
      "See the caveats in the documentation: https://pandas.pydata.org/pandas-docs/stable/user_guide/indexing.html#returning-a-view-versus-a-copy\n",
      "  df['affected_country'].loc[df[df['affected_country'] == 'Antarctica'].index] = 'Netherlands'\n"
     ]
    }
   ],
   "source": [
    "# Define your color palette and map it to countries\n",
    "df['affected_country'].loc[df[df['affected_country'] == 'Antarctica'].index] = 'Netherlands'\n",
    "\n",
    "unique_countries = df['affected_country'].unique()\n",
    "palette = cycle(qualitative.Alphabet)  # use a large qualitative palette\n",
    "\n",
    "color_map = {country: color for country, color in zip(unique_countries, palette)}\n",
    "\n",
    "# adds  templates to plotly.io\n",
    "pio.templates.default = \"plotly_dark\""
   ]
  },
  {
   "cell_type": "code",
   "execution_count": 5,
   "id": "5b311427",
   "metadata": {},
   "outputs": [
    {
     "data": {
      "text/html": [
       "<div>\n",
       "<style scoped>\n",
       "    .dataframe tbody tr th:only-of-type {\n",
       "        vertical-align: middle;\n",
       "    }\n",
       "\n",
       "    .dataframe tbody tr th {\n",
       "        vertical-align: top;\n",
       "    }\n",
       "\n",
       "    .dataframe thead th {\n",
       "        text-align: right;\n",
       "    }\n",
       "</style>\n",
       "<table border=\"1\" class=\"dataframe\">\n",
       "  <thead>\n",
       "    <tr style=\"text-align: right;\">\n",
       "      <th></th>\n",
       "      <th>slug</th>\n",
       "      <th>event_date</th>\n",
       "      <th>event_year</th>\n",
       "      <th>affected_country</th>\n",
       "      <th>affected_organization</th>\n",
       "      <th>affected_industry</th>\n",
       "      <th>afftected_industry_code</th>\n",
       "      <th>event_type</th>\n",
       "      <th>event_subtype</th>\n",
       "      <th>motive</th>\n",
       "      <th>description</th>\n",
       "      <th>actor</th>\n",
       "      <th>actor_type</th>\n",
       "      <th>actor_country</th>\n",
       "      <th>source_url</th>\n",
       "    </tr>\n",
       "  </thead>\n",
       "  <tbody>\n",
       "  </tbody>\n",
       "</table>\n",
       "</div>"
      ],
      "text/plain": [
       "Empty DataFrame\n",
       "Columns: [slug, event_date, event_year, affected_country, affected_organization, affected_industry, afftected_industry_code, event_type, event_subtype, motive, description, actor, actor_type, actor_country, source_url]\n",
       "Index: []"
      ]
     },
     "execution_count": 5,
     "metadata": {},
     "output_type": "execute_result"
    }
   ],
   "source": [
    "duplicate_rows_mask = df.duplicated()\n",
    "df[duplicate_rows_mask]"
   ]
  },
  {
   "cell_type": "code",
   "execution_count": null,
   "id": "3389d21f",
   "metadata": {},
   "outputs": [],
   "source": [
    "# Remove time, keep only date\n",
    "df['event_date'] = pd.to_datetime(df['event_date'])\n",
    "df['date'] = df['event_date'].dt.date\n",
    "\n",
    "# Sort by date (ascending)\n",
    "df = df.sort_values(by='date')\n",
    "\n",
    "# Optional: Reset index after sorting\n",
    "df = df.reset_index(drop=True)\n",
    "\n",
    "years = df.event_year.unique().tolist()\n",
    "available_countries = df.affected_country.unique().tolist()\n",
    "available_countries.sort()\n",
    "\n",
    "# make choropleth map\n",
    "choro_graph = px.choropleth(\n",
    "    df,\n",
    "    locations='affected_country',     # Column with country codes\n",
    "    locationmode='country names',\n",
    "    color='affected_country',\n",
    "    projection='equirectangular',     # Map projection style\n",
    "    color_discrete_map=color_map,\n",
    ")\n",
    "\n",
    "choro_graph = choro_graph.update_layout(showlegend=False,  margin=dict(l=0, r=0, t=0, b=0), )\n"
   ]
  },
  {
   "cell_type": "code",
   "execution_count": 38,
   "id": "aca8c772",
   "metadata": {},
   "outputs": [
    {
     "name": "stdout",
     "output_type": "stream",
     "text": [
      "Dash app running on http://127.0.0.1:8050/\n"
     ]
    },
    {
     "data": {
      "application/javascript": "window.open('http://127.0.0.1:8050/')",
      "text/plain": [
       "<IPython.core.display.Javascript object>"
      ]
     },
     "metadata": {},
     "output_type": "display_data"
    }
   ],
   "source": [
    "app = Dash(__name__, external_stylesheets=[dbc.themes.CYBORG])\n",
    "\n",
    "app.layout = html.Div([\n",
    "    html.Div([\n",
    "\n",
    "        ### Dashboard title ###\n",
    "        html.Div([\n",
    "            html.H1(\"Cybersecurity Failures\", style={\n",
    "                \"color\": \"#FFFFFF\",\n",
    "                \"fontSize\": \"64px\",\n",
    "                \"fontFamily\": \"Arial\",\n",
    "                \"textAlign\": \"center\",\n",
    "            }),\n",
    "            html.P(\n",
    "                dcc.Markdown(\"Data collected from 2014-2023 [[source]](https://huggingface.co/datasets/vinitvek/cybersecurityattacks)\"),\n",
    "                style={\"fontSize\": \"24px\", \n",
    "                       \"color\": \"#E1E1E1\", \n",
    "                       \"marginTop\": \"-10px\", \n",
    "                       \"fontFamily\": \"Calibri\", \n",
    "                       \"textAlign\": \"center\",}),\n",
    "        ]),\n",
    "\n",
    "        html.Div([\n",
    "            html.H2(\"Click a country on the map to get more specific information on their cybersecurity incidences.\", style={\n",
    "                'height': '40px',\n",
    "                'backgroundColor': \"#52495FB3\",\n",
    "                'border': '1px solid #000000',\n",
    "                'alignItems': 'center',\n",
    "                'textAlign': 'center',\n",
    "                'fontSize': '16px',\n",
    "                'borderRadius': '8px',  # Optional: slightly rounded corners\n",
    "                'padding':'8px',\n",
    "                'width':'1920px'\n",
    "                }\n",
    "            )], style={'display':'flex', 'justifyContent': 'center', } \n",
    "        ),\n",
    "\n",
    "        html.Div([\n",
    "            html.P(\"World Map: All countries which experienced cybersecurity failures (Coloured)\",\n",
    "                style={\n",
    "                    \"color\": \"white\",\n",
    "                    \"fontSize\": \"12px\",\n",
    "                    \"fontFamily\": \"monospace\",\n",
    "                    'fontWeight':'bold',\n",
    "                    \"margin-top\":'8px',\n",
    "                    'width':'1008px',\n",
    "                    \"position\":\"absolute\",\n",
    "                    'padding':'5px',\n",
    "                    'backgroundColor':'black',\n",
    "                    'border': '0.5px solid black',\n",
    "                    'right':'47%',\n",
    "                    'zIndex': 9999}\n",
    "            ),\n",
    "\n",
    "            # Map Graph\n",
    "            html.Div([\n",
    "                dcc.Graph(id='world-map',\n",
    "                        figure=choro_graph)\n",
    "            ], style={'position':'relative', 'margin':'4px', 'padding-top':'30px', 'height':'500px', 'width':'1000px'}),\n",
    "\n",
    "            # Data Table\n",
    "            html.Div([\n",
    "                dash_table.DataTable(\n",
    "                    id='country-table',\n",
    "                    columns=[{\"name\": col, \"id\": col} for col in ['affected_country', 'date', 'affected_organization', 'description']],\n",
    "                    fixed_rows={'headers': True},\n",
    "                    data=df.to_dict('records'),\n",
    "                    page_action='none',\n",
    "                    style_table={\n",
    "                        'overflowY': 'auto',   # Vertical scroll\n",
    "                        'overflowX':'auto'\n",
    "                    },\n",
    "                    style_data={\n",
    "                        'backgroundColor': \"#1A1A1A\",  # 👈 row background\n",
    "                        'color': 'white'              # text color\n",
    "                    },\n",
    "                    style_header={\n",
    "                        'zIndex':'9999',\n",
    "                        'backgroundColor': \"#000000\",    # 👈 header row bg\n",
    "                        'color': 'white',\n",
    "                        'fontWeight': 'bold'\n",
    "                    },\n",
    "                    style_cell={\n",
    "                        'fontSize': '12px',\n",
    "                        'minWidth':'196px',\n",
    "                        'maxWidth':'196px',\n",
    "                        'textAlign': 'left',\n",
    "                        'whiteSpace': 'normal',  # Wrap text if needed\n",
    "                        'border': '1px solid #000000'\n",
    "                    },\n",
    "                )\n",
    "            ], style={'position':'relative', 'margin':'4px', }),\n",
    "\n",
    "            # Year Filter\n",
    "            html.Div([\n",
    "                html.H4(\"Select Year\",\n",
    "                        style={'font':'monospace',\n",
    "                               'fontSize':'14px',\n",
    "                               'fontWeight':'bold',\n",
    "                               'backgroundColor':'#000000',\n",
    "                               'padding':'4px'}),\n",
    "\n",
    "                dcc.RadioItems(\n",
    "                    id='year-filter',\n",
    "                    options=[{'label': year, 'value': year} for year in years],\n",
    "                    value=None,\n",
    "                    style={\n",
    "                        'backgroundColor': \"#0e0d0d\",  # dark background\n",
    "                        'color': 'white',             # text color\n",
    "                        'border': '1px solid #1A1A1A',\n",
    "                        'padding':'8px',\n",
    "                    },\n",
    "                    labelStyle={\n",
    "                        'display': 'block',\n",
    "                        'marginBottom': '8px',\n",
    "                        'fontSize': '16px',\n",
    "                        'cursor': 'pointer'\n",
    "                    }  \n",
    "                )], style={'position': 'relative', 'margin':'8px', 'zIndex': 9999, }),\n",
    "\n",
    "        ], style={'display': 'flex', 'justifyContent':'center', 'padding':'8px', 'alignItems':'stretch', 'margin-right':'24px', 'margin-left':'24px'}),\n",
    "\n",
    "        ### Start of section 2 ###\n",
    "\n",
    "        html.Div([\n",
    "            html.Div([\n",
    "                html.H2(\"Pick a country and year to specify graphs and tables\",\n",
    "                        style={\n",
    "                            'fontSize':'16px',\n",
    "                            'font':'Monospace'\n",
    "                        }),\n",
    "\n",
    "                html.Div([\n",
    "                    # Country dropdown\n",
    "                    html.Div([\n",
    "                        html.Label(\"Select a Country:\", style={'padding-right':'8px',}),\n",
    "                        dcc.Dropdown(\n",
    "                            id='country-dropdown',\n",
    "                            options=[{'label': country, 'value': country} for country in available_countries],\n",
    "                            value=None,\n",
    "                            style={'width': '256px',}\n",
    "                        ), \n",
    "                    ], style={'padding-right':'16px'}),\n",
    "                    # Year dropdown\n",
    "                    html.Div([\n",
    "                        html.Label(\"Select a year:\", style={'padding-right':'8px'}),\n",
    "                        dcc.Dropdown(\n",
    "                            id='year-dropdown',\n",
    "                            options=[{'label': year, 'value': year} for year in years],\n",
    "                            value=None,\n",
    "                            style={'width': '128px', }\n",
    "                        ),\n",
    "                    ]),\n",
    "                ], style={'display': 'flex', 'justifyContent':'left'}),\n",
    "\n",
    "                html.Div([\n",
    "                    # Bar graph of events and subevents\n",
    "                    html.Div([\n",
    "                        dcc.Graph(id='events-bar-graph')\n",
    "                        ], style={'position':'relative', 'margin':'4px', 'height':'500px', 'width':'1000px'}), \n",
    "\n",
    "                    html.Div([\n",
    "                        #top graph\n",
    "                        html.Div([\n",
    "                            dcc.Graph(id='actors-responsible-bar-graph')\n",
    "                        ], style={'position':'relative', 'margin':'4px', 'height':'250px', 'width':'784px'}), \n",
    "                        #bottom graph\n",
    "                        html.Div([\n",
    "                            dcc.Graph(id='motives-bar-graph')\n",
    "                        ], style={'position':'relative', 'margin':'4px', 'height':'250px', 'width':'784px'}), \n",
    "                    ], style={'display': 'flex', 'flexDirection': 'column'})\n",
    "                ], style={'display': 'flex', 'justifyContent':'center',}),\n",
    "\n",
    "            ]),\n",
    "\n",
    "        ], style={'display': 'flex', 'justifyContent':'center', 'padding':'8px', 'alignItems':'stretch', 'margin-right':'24px', 'margin-left':'24px'}),\n",
    "\n",
    "    ], style={'padding':'24px', 'border': '1px solid red'})\n",
    "])\n",
    "\n",
    "# Callback to update table based on click + year\n",
    "@app.callback(\n",
    "    Output('country-table', 'data'),\n",
    "    Input('world-map', 'clickData'),\n",
    "    Input('year-filter', 'value')\n",
    ")\n",
    "def update_section1(clickData, selected_year):\n",
    "    if (clickData is None) and (selected_year is None):\n",
    "        table_data = df.to_dict('records')\n",
    "    elif (clickData is None):\n",
    "        table_data =  df[df.event_year == selected_year].to_dict('records')\n",
    "    elif (selected_year is None):\n",
    "        country_clicked = clickData['points'][0]['location']\n",
    "        table_data = df[df.affected_country == country_clicked].to_dict('records')\n",
    "    else:\n",
    "        country_clicked = clickData['points'][0]['location']\n",
    "        table_data = df[(df['affected_country'] == country_clicked) & (df['event_year'] == selected_year)].to_dict('records')\n",
    "    \n",
    "    return table_data\n",
    "\n",
    "@app.callback(\n",
    "    Output('events-bar-graph', 'figure'),\n",
    "    Output('actors-responsible-bar-graph', 'figure'),\n",
    "    Output('motives-bar-graph', 'figure'),\n",
    "    Input('country-dropdown', 'value'),\n",
    "    Input('year-dropdown', 'value')\n",
    ")\n",
    "def update_section2(country, year):\n",
    "    if (country is None) and (year is None):\n",
    "        fig_data = df\n",
    "    elif (country is None):\n",
    "        fig_data =  df[df.event_year == year]\n",
    "    elif (year is None):\n",
    "        fig_data = df[df.affected_country == country]\n",
    "    else:\n",
    "        fig_data = df[(df['affected_country'] == country) & (df['event_year'] == year)]\n",
    "    \n",
    "    actors_data = fig_data['actor_country'].value_counts().reset_index()\n",
    "    motives_data = fig_data['motive'].value_counts().reset_index()\n",
    "\n",
    "    fig = px.bar(fig_data, x=\"event_type\", color='event_subtype', title=\"\", hover_data={\"actor_country\": True, \"motive\": True})\n",
    "    fig2 = px.bar(actors_data, x=\"actor_country\", y=\"count\")\n",
    "    fig3 = px.bar(motives_data, x=\"motive\", y=\"count\")\n",
    "\n",
    "    return fig, fig2, fig3\n",
    "\n",
    "# run app\n",
    "app.run(jupyter_mode=\"tab\", debug=True)"
   ]
  },
  {
   "cell_type": "code",
   "execution_count": 32,
   "id": "1df87574",
   "metadata": {},
   "outputs": [
    {
     "data": {
      "application/vnd.plotly.v1+json": {
       "config": {
        "plotlyServerURL": "https://plot.ly"
       },
       "data": [
        {
         "hovertemplate": "actor_country=%{x}<br>count=%{y}<extra></extra>",
         "legendgroup": "",
         "marker": {
          "color": "#636efa",
          "pattern": {
           "shape": ""
          }
         },
         "name": "",
         "orientation": "v",
         "showlegend": false,
         "textposition": "auto",
         "type": "bar",
         "x": [
          "Undetermined",
          "Russian Federation",
          "China",
          "Korea (the Democratic People's Republic of)",
          "United States of America",
          "Ukraine",
          "Saudi Arabia",
          "Iran (Islamic Republic of)",
          "India",
          "Azerbaijan",
          "Pakistan",
          "Syrian Arab Republic",
          "United Kingdom of Great Britain and Northern Ireland",
          "Turkey",
          "Italy",
          "Belarus",
          "Brazil",
          "Viet Nam",
          "Portugal",
          "Algeria",
          "Israel",
          "Lebanon",
          "Sudan",
          "Spain",
          "Palestine, State of",
          "Philippines",
          "Egypt",
          "United Arab Emirates",
          "Japan",
          "France",
          "Bangladesh",
          "Czechia",
          "Indonesia",
          "Nigeria",
          "Norway",
          "Mexico",
          "New Zealand",
          "Austria",
          "Rwanda",
          "Thailand",
          "Uzbekistan",
          "Jordan",
          "Australia",
          "Togo",
          "Yemen",
          "Poland",
          "Belgium",
          "Canada",
          "Venezuela (Bolivarian Republic of)",
          "Ireland",
          "Bulgaria",
          "Morocco",
          "Panama",
          "Kuwait",
          "Iraq",
          "Myanmar",
          "Malaysia",
          "Kenya",
          "South Africa",
          "Uganda",
          "Libya",
          "Germany",
          "Ecuador",
          "Chile",
          "Afghanistan",
          "Turkmenistan",
          "Cuba",
          "Bolivia (Plurinational State of)",
          "Greece",
          "Sierra Leone",
          "Ghana",
          "Korea (the Republic of)",
          "Netherlands",
          "Cambodia",
          "Romania",
          "Costa Rica",
          "Denmark",
          "Peru",
          "Sri Lanka",
          "Nepal",
          "Armenia",
          "Albania"
         ],
         "xaxis": "x",
         "y": {
          "bdata": "eyfNBp0AlQCLAH0AVwBXAEQARAA9ADoAMwAwAC8AKwAiAB0AHQAVABIAEQANAAwACgAKAAoACQAJAAgACAAHAAcABwAHAAUABQAFAAQABAAEAAQABAAEAAQAAwADAAMAAwADAAMAAwACAAIAAgACAAIAAgACAAIAAgACAAIAAgABAAEAAQABAAEAAQABAAEAAQABAAEAAQABAAEAAQABAAEAAQA=",
          "dtype": "i2"
         },
         "yaxis": "y"
        }
       ],
       "layout": {
        "barmode": "relative",
        "legend": {
         "tracegroupgap": 0
        },
        "margin": {
         "t": 60
        },
        "template": {
         "data": {
          "bar": [
           {
            "error_x": {
             "color": "#f2f5fa"
            },
            "error_y": {
             "color": "#f2f5fa"
            },
            "marker": {
             "line": {
              "color": "rgb(17,17,17)",
              "width": 0.5
             },
             "pattern": {
              "fillmode": "overlay",
              "size": 10,
              "solidity": 0.2
             }
            },
            "type": "bar"
           }
          ],
          "barpolar": [
           {
            "marker": {
             "line": {
              "color": "rgb(17,17,17)",
              "width": 0.5
             },
             "pattern": {
              "fillmode": "overlay",
              "size": 10,
              "solidity": 0.2
             }
            },
            "type": "barpolar"
           }
          ],
          "carpet": [
           {
            "aaxis": {
             "endlinecolor": "#A2B1C6",
             "gridcolor": "#506784",
             "linecolor": "#506784",
             "minorgridcolor": "#506784",
             "startlinecolor": "#A2B1C6"
            },
            "baxis": {
             "endlinecolor": "#A2B1C6",
             "gridcolor": "#506784",
             "linecolor": "#506784",
             "minorgridcolor": "#506784",
             "startlinecolor": "#A2B1C6"
            },
            "type": "carpet"
           }
          ],
          "choropleth": [
           {
            "colorbar": {
             "outlinewidth": 0,
             "ticks": ""
            },
            "type": "choropleth"
           }
          ],
          "contour": [
           {
            "colorbar": {
             "outlinewidth": 0,
             "ticks": ""
            },
            "colorscale": [
             [
              0,
              "#0d0887"
             ],
             [
              0.1111111111111111,
              "#46039f"
             ],
             [
              0.2222222222222222,
              "#7201a8"
             ],
             [
              0.3333333333333333,
              "#9c179e"
             ],
             [
              0.4444444444444444,
              "#bd3786"
             ],
             [
              0.5555555555555556,
              "#d8576b"
             ],
             [
              0.6666666666666666,
              "#ed7953"
             ],
             [
              0.7777777777777778,
              "#fb9f3a"
             ],
             [
              0.8888888888888888,
              "#fdca26"
             ],
             [
              1,
              "#f0f921"
             ]
            ],
            "type": "contour"
           }
          ],
          "contourcarpet": [
           {
            "colorbar": {
             "outlinewidth": 0,
             "ticks": ""
            },
            "type": "contourcarpet"
           }
          ],
          "heatmap": [
           {
            "colorbar": {
             "outlinewidth": 0,
             "ticks": ""
            },
            "colorscale": [
             [
              0,
              "#0d0887"
             ],
             [
              0.1111111111111111,
              "#46039f"
             ],
             [
              0.2222222222222222,
              "#7201a8"
             ],
             [
              0.3333333333333333,
              "#9c179e"
             ],
             [
              0.4444444444444444,
              "#bd3786"
             ],
             [
              0.5555555555555556,
              "#d8576b"
             ],
             [
              0.6666666666666666,
              "#ed7953"
             ],
             [
              0.7777777777777778,
              "#fb9f3a"
             ],
             [
              0.8888888888888888,
              "#fdca26"
             ],
             [
              1,
              "#f0f921"
             ]
            ],
            "type": "heatmap"
           }
          ],
          "histogram": [
           {
            "marker": {
             "pattern": {
              "fillmode": "overlay",
              "size": 10,
              "solidity": 0.2
             }
            },
            "type": "histogram"
           }
          ],
          "histogram2d": [
           {
            "colorbar": {
             "outlinewidth": 0,
             "ticks": ""
            },
            "colorscale": [
             [
              0,
              "#0d0887"
             ],
             [
              0.1111111111111111,
              "#46039f"
             ],
             [
              0.2222222222222222,
              "#7201a8"
             ],
             [
              0.3333333333333333,
              "#9c179e"
             ],
             [
              0.4444444444444444,
              "#bd3786"
             ],
             [
              0.5555555555555556,
              "#d8576b"
             ],
             [
              0.6666666666666666,
              "#ed7953"
             ],
             [
              0.7777777777777778,
              "#fb9f3a"
             ],
             [
              0.8888888888888888,
              "#fdca26"
             ],
             [
              1,
              "#f0f921"
             ]
            ],
            "type": "histogram2d"
           }
          ],
          "histogram2dcontour": [
           {
            "colorbar": {
             "outlinewidth": 0,
             "ticks": ""
            },
            "colorscale": [
             [
              0,
              "#0d0887"
             ],
             [
              0.1111111111111111,
              "#46039f"
             ],
             [
              0.2222222222222222,
              "#7201a8"
             ],
             [
              0.3333333333333333,
              "#9c179e"
             ],
             [
              0.4444444444444444,
              "#bd3786"
             ],
             [
              0.5555555555555556,
              "#d8576b"
             ],
             [
              0.6666666666666666,
              "#ed7953"
             ],
             [
              0.7777777777777778,
              "#fb9f3a"
             ],
             [
              0.8888888888888888,
              "#fdca26"
             ],
             [
              1,
              "#f0f921"
             ]
            ],
            "type": "histogram2dcontour"
           }
          ],
          "mesh3d": [
           {
            "colorbar": {
             "outlinewidth": 0,
             "ticks": ""
            },
            "type": "mesh3d"
           }
          ],
          "parcoords": [
           {
            "line": {
             "colorbar": {
              "outlinewidth": 0,
              "ticks": ""
             }
            },
            "type": "parcoords"
           }
          ],
          "pie": [
           {
            "automargin": true,
            "type": "pie"
           }
          ],
          "scatter": [
           {
            "marker": {
             "line": {
              "color": "#283442"
             }
            },
            "type": "scatter"
           }
          ],
          "scatter3d": [
           {
            "line": {
             "colorbar": {
              "outlinewidth": 0,
              "ticks": ""
             }
            },
            "marker": {
             "colorbar": {
              "outlinewidth": 0,
              "ticks": ""
             }
            },
            "type": "scatter3d"
           }
          ],
          "scattercarpet": [
           {
            "marker": {
             "colorbar": {
              "outlinewidth": 0,
              "ticks": ""
             }
            },
            "type": "scattercarpet"
           }
          ],
          "scattergeo": [
           {
            "marker": {
             "colorbar": {
              "outlinewidth": 0,
              "ticks": ""
             }
            },
            "type": "scattergeo"
           }
          ],
          "scattergl": [
           {
            "marker": {
             "line": {
              "color": "#283442"
             }
            },
            "type": "scattergl"
           }
          ],
          "scattermap": [
           {
            "marker": {
             "colorbar": {
              "outlinewidth": 0,
              "ticks": ""
             }
            },
            "type": "scattermap"
           }
          ],
          "scattermapbox": [
           {
            "marker": {
             "colorbar": {
              "outlinewidth": 0,
              "ticks": ""
             }
            },
            "type": "scattermapbox"
           }
          ],
          "scatterpolar": [
           {
            "marker": {
             "colorbar": {
              "outlinewidth": 0,
              "ticks": ""
             }
            },
            "type": "scatterpolar"
           }
          ],
          "scatterpolargl": [
           {
            "marker": {
             "colorbar": {
              "outlinewidth": 0,
              "ticks": ""
             }
            },
            "type": "scatterpolargl"
           }
          ],
          "scatterternary": [
           {
            "marker": {
             "colorbar": {
              "outlinewidth": 0,
              "ticks": ""
             }
            },
            "type": "scatterternary"
           }
          ],
          "surface": [
           {
            "colorbar": {
             "outlinewidth": 0,
             "ticks": ""
            },
            "colorscale": [
             [
              0,
              "#0d0887"
             ],
             [
              0.1111111111111111,
              "#46039f"
             ],
             [
              0.2222222222222222,
              "#7201a8"
             ],
             [
              0.3333333333333333,
              "#9c179e"
             ],
             [
              0.4444444444444444,
              "#bd3786"
             ],
             [
              0.5555555555555556,
              "#d8576b"
             ],
             [
              0.6666666666666666,
              "#ed7953"
             ],
             [
              0.7777777777777778,
              "#fb9f3a"
             ],
             [
              0.8888888888888888,
              "#fdca26"
             ],
             [
              1,
              "#f0f921"
             ]
            ],
            "type": "surface"
           }
          ],
          "table": [
           {
            "cells": {
             "fill": {
              "color": "#506784"
             },
             "line": {
              "color": "rgb(17,17,17)"
             }
            },
            "header": {
             "fill": {
              "color": "#2a3f5f"
             },
             "line": {
              "color": "rgb(17,17,17)"
             }
            },
            "type": "table"
           }
          ]
         },
         "layout": {
          "annotationdefaults": {
           "arrowcolor": "#f2f5fa",
           "arrowhead": 0,
           "arrowwidth": 1
          },
          "autotypenumbers": "strict",
          "coloraxis": {
           "colorbar": {
            "outlinewidth": 0,
            "ticks": ""
           }
          },
          "colorscale": {
           "diverging": [
            [
             0,
             "#8e0152"
            ],
            [
             0.1,
             "#c51b7d"
            ],
            [
             0.2,
             "#de77ae"
            ],
            [
             0.3,
             "#f1b6da"
            ],
            [
             0.4,
             "#fde0ef"
            ],
            [
             0.5,
             "#f7f7f7"
            ],
            [
             0.6,
             "#e6f5d0"
            ],
            [
             0.7,
             "#b8e186"
            ],
            [
             0.8,
             "#7fbc41"
            ],
            [
             0.9,
             "#4d9221"
            ],
            [
             1,
             "#276419"
            ]
           ],
           "sequential": [
            [
             0,
             "#0d0887"
            ],
            [
             0.1111111111111111,
             "#46039f"
            ],
            [
             0.2222222222222222,
             "#7201a8"
            ],
            [
             0.3333333333333333,
             "#9c179e"
            ],
            [
             0.4444444444444444,
             "#bd3786"
            ],
            [
             0.5555555555555556,
             "#d8576b"
            ],
            [
             0.6666666666666666,
             "#ed7953"
            ],
            [
             0.7777777777777778,
             "#fb9f3a"
            ],
            [
             0.8888888888888888,
             "#fdca26"
            ],
            [
             1,
             "#f0f921"
            ]
           ],
           "sequentialminus": [
            [
             0,
             "#0d0887"
            ],
            [
             0.1111111111111111,
             "#46039f"
            ],
            [
             0.2222222222222222,
             "#7201a8"
            ],
            [
             0.3333333333333333,
             "#9c179e"
            ],
            [
             0.4444444444444444,
             "#bd3786"
            ],
            [
             0.5555555555555556,
             "#d8576b"
            ],
            [
             0.6666666666666666,
             "#ed7953"
            ],
            [
             0.7777777777777778,
             "#fb9f3a"
            ],
            [
             0.8888888888888888,
             "#fdca26"
            ],
            [
             1,
             "#f0f921"
            ]
           ]
          },
          "colorway": [
           "#636efa",
           "#EF553B",
           "#00cc96",
           "#ab63fa",
           "#FFA15A",
           "#19d3f3",
           "#FF6692",
           "#B6E880",
           "#FF97FF",
           "#FECB52"
          ],
          "font": {
           "color": "#f2f5fa"
          },
          "geo": {
           "bgcolor": "rgb(17,17,17)",
           "lakecolor": "rgb(17,17,17)",
           "landcolor": "rgb(17,17,17)",
           "showlakes": true,
           "showland": true,
           "subunitcolor": "#506784"
          },
          "hoverlabel": {
           "align": "left"
          },
          "hovermode": "closest",
          "mapbox": {
           "style": "dark"
          },
          "paper_bgcolor": "rgb(17,17,17)",
          "plot_bgcolor": "rgb(17,17,17)",
          "polar": {
           "angularaxis": {
            "gridcolor": "#506784",
            "linecolor": "#506784",
            "ticks": ""
           },
           "bgcolor": "rgb(17,17,17)",
           "radialaxis": {
            "gridcolor": "#506784",
            "linecolor": "#506784",
            "ticks": ""
           }
          },
          "scene": {
           "xaxis": {
            "backgroundcolor": "rgb(17,17,17)",
            "gridcolor": "#506784",
            "gridwidth": 2,
            "linecolor": "#506784",
            "showbackground": true,
            "ticks": "",
            "zerolinecolor": "#C8D4E3"
           },
           "yaxis": {
            "backgroundcolor": "rgb(17,17,17)",
            "gridcolor": "#506784",
            "gridwidth": 2,
            "linecolor": "#506784",
            "showbackground": true,
            "ticks": "",
            "zerolinecolor": "#C8D4E3"
           },
           "zaxis": {
            "backgroundcolor": "rgb(17,17,17)",
            "gridcolor": "#506784",
            "gridwidth": 2,
            "linecolor": "#506784",
            "showbackground": true,
            "ticks": "",
            "zerolinecolor": "#C8D4E3"
           }
          },
          "shapedefaults": {
           "line": {
            "color": "#f2f5fa"
           }
          },
          "sliderdefaults": {
           "bgcolor": "#C8D4E3",
           "bordercolor": "rgb(17,17,17)",
           "borderwidth": 1,
           "tickwidth": 0
          },
          "ternary": {
           "aaxis": {
            "gridcolor": "#506784",
            "linecolor": "#506784",
            "ticks": ""
           },
           "baxis": {
            "gridcolor": "#506784",
            "linecolor": "#506784",
            "ticks": ""
           },
           "bgcolor": "rgb(17,17,17)",
           "caxis": {
            "gridcolor": "#506784",
            "linecolor": "#506784",
            "ticks": ""
           }
          },
          "title": {
           "x": 0.05
          },
          "updatemenudefaults": {
           "bgcolor": "#506784",
           "borderwidth": 0
          },
          "xaxis": {
           "automargin": true,
           "gridcolor": "#283442",
           "linecolor": "#506784",
           "ticks": "",
           "title": {
            "standoff": 15
           },
           "zerolinecolor": "#283442",
           "zerolinewidth": 2
          },
          "yaxis": {
           "automargin": true,
           "gridcolor": "#283442",
           "linecolor": "#506784",
           "ticks": "",
           "title": {
            "standoff": 15
           },
           "zerolinecolor": "#283442",
           "zerolinewidth": 2
          }
         }
        },
        "xaxis": {
         "anchor": "y",
         "domain": [
          0,
          1
         ],
         "title": {
          "text": "actor_country"
         }
        },
        "yaxis": {
         "anchor": "x",
         "domain": [
          0,
          1
         ],
         "title": {
          "text": "count"
         }
        }
       }
      }
     },
     "metadata": {},
     "output_type": "display_data"
    }
   ],
   "source": [
    "# t = df[(df.affected_country == 'Canada') & (df.event_year == 2015)]\n",
    "t = df['actor_country'].value_counts().reset_index()\n",
    "t\n",
    "fig = px.bar(t, x=\"actor_country\", y=\"count\")\n",
    "fig.show()"
   ]
  },
  {
   "cell_type": "code",
   "execution_count": 20,
   "id": "cd99b778",
   "metadata": {},
   "outputs": [
    {
     "data": {
      "text/html": [
       "<div>\n",
       "<style scoped>\n",
       "    .dataframe tbody tr th:only-of-type {\n",
       "        vertical-align: middle;\n",
       "    }\n",
       "\n",
       "    .dataframe tbody tr th {\n",
       "        vertical-align: top;\n",
       "    }\n",
       "\n",
       "    .dataframe thead th {\n",
       "        text-align: right;\n",
       "    }\n",
       "</style>\n",
       "<table border=\"1\" class=\"dataframe\">\n",
       "  <thead>\n",
       "    <tr style=\"text-align: right;\">\n",
       "      <th></th>\n",
       "      <th>motive</th>\n",
       "      <th>count</th>\n",
       "    </tr>\n",
       "  </thead>\n",
       "  <tbody>\n",
       "    <tr>\n",
       "      <th>0</th>\n",
       "      <td>Financial</td>\n",
       "      <td>1732</td>\n",
       "    </tr>\n",
       "    <tr>\n",
       "      <th>1</th>\n",
       "      <td>Undetermined</td>\n",
       "      <td>267</td>\n",
       "    </tr>\n",
       "    <tr>\n",
       "      <th>2</th>\n",
       "      <td>Protest</td>\n",
       "      <td>257</td>\n",
       "    </tr>\n",
       "    <tr>\n",
       "      <th>3</th>\n",
       "      <td>Political-Espionage</td>\n",
       "      <td>79</td>\n",
       "    </tr>\n",
       "    <tr>\n",
       "      <th>4</th>\n",
       "      <td>Espionage</td>\n",
       "      <td>20</td>\n",
       "    </tr>\n",
       "    <tr>\n",
       "      <th>5</th>\n",
       "      <td>Sabotage</td>\n",
       "      <td>17</td>\n",
       "    </tr>\n",
       "    <tr>\n",
       "      <th>6</th>\n",
       "      <td>Personal Attack</td>\n",
       "      <td>1</td>\n",
       "    </tr>\n",
       "    <tr>\n",
       "      <th>7</th>\n",
       "      <td>Industrial-Espionage</td>\n",
       "      <td>1</td>\n",
       "    </tr>\n",
       "  </tbody>\n",
       "</table>\n",
       "</div>"
      ],
      "text/plain": [
       "                 motive  count\n",
       "0             Financial   1732\n",
       "1          Undetermined    267\n",
       "2               Protest    257\n",
       "3   Political-Espionage     79\n",
       "4             Espionage     20\n",
       "5              Sabotage     17\n",
       "6       Personal Attack      1\n",
       "7  Industrial-Espionage      1"
      ]
     },
     "execution_count": 20,
     "metadata": {},
     "output_type": "execute_result"
    }
   ],
   "source": [
    "df[df.event_year == 2023]['motive'].value_counts().reset_index()"
   ]
  },
  {
   "cell_type": "code",
   "execution_count": 28,
   "id": "8280517b",
   "metadata": {},
   "outputs": [
    {
     "data": {
      "text/plain": [
       "actor_country\n",
       "Undetermined          34\n",
       "Russian Federation    15\n",
       "Name: count, dtype: int64"
      ]
     },
     "execution_count": 28,
     "metadata": {},
     "output_type": "execute_result"
    }
   ],
   "source": [
    "t['actor_country'].value_counts()"
   ]
  },
  {
   "cell_type": "code",
   "execution_count": null,
   "id": "f9ceaa7d",
   "metadata": {},
   "outputs": [
    {
     "data": {
      "text/plain": [
       "Index(['slug', 'event_date', 'event_year', 'affected_country',\n",
       "       'affected_organization', 'affected_industry', 'afftected_industry_code',\n",
       "       'event_type', 'event_subtype', 'motive', 'description', 'actor',\n",
       "       'actor_type', 'actor_country', 'source_url', 'date'],\n",
       "      dtype='object')"
      ]
     },
     "execution_count": 15,
     "metadata": {},
     "output_type": "execute_result"
    }
   ],
   "source": [
    "df.columns"
   ]
  }
 ],
 "metadata": {
  "kernelspec": {
   "display_name": "Python 3",
   "language": "python",
   "name": "python3"
  },
  "language_info": {
   "codemirror_mode": {
    "name": "ipython",
    "version": 3
   },
   "file_extension": ".py",
   "mimetype": "text/x-python",
   "name": "python",
   "nbconvert_exporter": "python",
   "pygments_lexer": "ipython3",
   "version": "3.13.5"
  }
 },
 "nbformat": 4,
 "nbformat_minor": 5
}
